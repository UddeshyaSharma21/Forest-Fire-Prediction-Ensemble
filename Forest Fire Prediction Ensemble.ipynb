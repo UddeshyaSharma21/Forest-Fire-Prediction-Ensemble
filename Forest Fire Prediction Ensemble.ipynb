{
 "cells": [
  {
   "cell_type": "code",
   "execution_count": 1,
   "metadata": {},
   "outputs": [
    {
     "name": "stderr",
     "output_type": "stream",
     "text": [
      "C:\\Users\\hp\\Anaconda3\\lib\\site-packages\\pandas\\compat\\_optional.py:138: UserWarning: Pandas requires version '2.7.0' or newer of 'numexpr' (version '2.6.9' currently installed).\n",
      "  warnings.warn(msg, UserWarning)\n",
      "C:\\Users\\hp\\Anaconda3\\lib\\site-packages\\statsmodels\\tools\\_testing.py:19: FutureWarning: pandas.util.testing is deprecated. Use the functions in the public API at pandas.testing instead.\n",
      "  import pandas.util.testing as tm\n"
     ]
    }
   ],
   "source": [
    "import numpy as np\n",
    "import pandas as pd\n",
    "import seaborn as sns\n",
    "import matplotlib.pyplot as plt\n",
    "%matplotlib inline\n",
    "from datetime import datetime\n",
    "from sklearn.ensemble import RandomForestRegressor\n",
    "from matplotlib.dates import YearLocator, MonthLocator, DateFormatter\n",
    "from sklearn.model_selection import train_test_split\n",
    "from sklearn import set_config\n",
    "set_config(print_changed_only=False)"
   ]
  },
  {
   "cell_type": "code",
   "execution_count": 2,
   "metadata": {},
   "outputs": [],
   "source": [
    "df = pd.read_csv(\"C:\\\\Users\\\\hp\\\\Downloads\\\\forestfires.csv\")"
   ]
  },
  {
   "cell_type": "code",
   "execution_count": 3,
   "metadata": {},
   "outputs": [
    {
     "data": {
      "text/html": [
       "<div>\n",
       "<style scoped>\n",
       "    .dataframe tbody tr th:only-of-type {\n",
       "        vertical-align: middle;\n",
       "    }\n",
       "\n",
       "    .dataframe tbody tr th {\n",
       "        vertical-align: top;\n",
       "    }\n",
       "\n",
       "    .dataframe thead th {\n",
       "        text-align: right;\n",
       "    }\n",
       "</style>\n",
       "<table border=\"1\" class=\"dataframe\">\n",
       "  <thead>\n",
       "    <tr style=\"text-align: right;\">\n",
       "      <th></th>\n",
       "      <th>X</th>\n",
       "      <th>Y</th>\n",
       "      <th>month</th>\n",
       "      <th>day</th>\n",
       "      <th>FFMC</th>\n",
       "      <th>DMC</th>\n",
       "      <th>DC</th>\n",
       "      <th>ISI</th>\n",
       "      <th>temp</th>\n",
       "      <th>RH</th>\n",
       "      <th>wind</th>\n",
       "      <th>rain</th>\n",
       "      <th>area</th>\n",
       "    </tr>\n",
       "  </thead>\n",
       "  <tbody>\n",
       "    <tr>\n",
       "      <th>0</th>\n",
       "      <td>2</td>\n",
       "      <td>4</td>\n",
       "      <td>jan</td>\n",
       "      <td>sat</td>\n",
       "      <td>82.1</td>\n",
       "      <td>3.7</td>\n",
       "      <td>9.3</td>\n",
       "      <td>2.9</td>\n",
       "      <td>5.3</td>\n",
       "      <td>78</td>\n",
       "      <td>3.1</td>\n",
       "      <td>0.0</td>\n",
       "      <td>0.00</td>\n",
       "    </tr>\n",
       "    <tr>\n",
       "      <th>1</th>\n",
       "      <td>4</td>\n",
       "      <td>5</td>\n",
       "      <td>jan</td>\n",
       "      <td>sun</td>\n",
       "      <td>18.7</td>\n",
       "      <td>1.1</td>\n",
       "      <td>171.4</td>\n",
       "      <td>0.0</td>\n",
       "      <td>5.2</td>\n",
       "      <td>100</td>\n",
       "      <td>0.9</td>\n",
       "      <td>0.0</td>\n",
       "      <td>0.00</td>\n",
       "    </tr>\n",
       "    <tr>\n",
       "      <th>2</th>\n",
       "      <td>2</td>\n",
       "      <td>2</td>\n",
       "      <td>feb</td>\n",
       "      <td>mon</td>\n",
       "      <td>84.0</td>\n",
       "      <td>9.3</td>\n",
       "      <td>34.0</td>\n",
       "      <td>2.1</td>\n",
       "      <td>13.9</td>\n",
       "      <td>40</td>\n",
       "      <td>5.4</td>\n",
       "      <td>0.0</td>\n",
       "      <td>0.00</td>\n",
       "    </tr>\n",
       "    <tr>\n",
       "      <th>3</th>\n",
       "      <td>2</td>\n",
       "      <td>2</td>\n",
       "      <td>feb</td>\n",
       "      <td>fri</td>\n",
       "      <td>86.6</td>\n",
       "      <td>13.2</td>\n",
       "      <td>43.0</td>\n",
       "      <td>5.3</td>\n",
       "      <td>12.3</td>\n",
       "      <td>51</td>\n",
       "      <td>0.9</td>\n",
       "      <td>0.0</td>\n",
       "      <td>0.00</td>\n",
       "    </tr>\n",
       "    <tr>\n",
       "      <th>4</th>\n",
       "      <td>9</td>\n",
       "      <td>9</td>\n",
       "      <td>feb</td>\n",
       "      <td>thu</td>\n",
       "      <td>84.2</td>\n",
       "      <td>6.8</td>\n",
       "      <td>26.6</td>\n",
       "      <td>7.7</td>\n",
       "      <td>6.7</td>\n",
       "      <td>79</td>\n",
       "      <td>3.1</td>\n",
       "      <td>0.0</td>\n",
       "      <td>0.00</td>\n",
       "    </tr>\n",
       "    <tr>\n",
       "      <th>5</th>\n",
       "      <td>9</td>\n",
       "      <td>9</td>\n",
       "      <td>feb</td>\n",
       "      <td>fri</td>\n",
       "      <td>86.6</td>\n",
       "      <td>13.2</td>\n",
       "      <td>43.0</td>\n",
       "      <td>5.3</td>\n",
       "      <td>15.7</td>\n",
       "      <td>43</td>\n",
       "      <td>3.1</td>\n",
       "      <td>0.0</td>\n",
       "      <td>0.00</td>\n",
       "    </tr>\n",
       "    <tr>\n",
       "      <th>6</th>\n",
       "      <td>3</td>\n",
       "      <td>4</td>\n",
       "      <td>feb</td>\n",
       "      <td>sat</td>\n",
       "      <td>83.9</td>\n",
       "      <td>8.0</td>\n",
       "      <td>30.2</td>\n",
       "      <td>2.6</td>\n",
       "      <td>12.7</td>\n",
       "      <td>48</td>\n",
       "      <td>1.8</td>\n",
       "      <td>0.0</td>\n",
       "      <td>0.00</td>\n",
       "    </tr>\n",
       "    <tr>\n",
       "      <th>7</th>\n",
       "      <td>4</td>\n",
       "      <td>6</td>\n",
       "      <td>feb</td>\n",
       "      <td>sat</td>\n",
       "      <td>68.2</td>\n",
       "      <td>21.5</td>\n",
       "      <td>87.2</td>\n",
       "      <td>0.8</td>\n",
       "      <td>15.4</td>\n",
       "      <td>40</td>\n",
       "      <td>2.7</td>\n",
       "      <td>0.0</td>\n",
       "      <td>0.00</td>\n",
       "    </tr>\n",
       "    <tr>\n",
       "      <th>8</th>\n",
       "      <td>5</td>\n",
       "      <td>4</td>\n",
       "      <td>feb</td>\n",
       "      <td>sun</td>\n",
       "      <td>86.8</td>\n",
       "      <td>15.6</td>\n",
       "      <td>48.3</td>\n",
       "      <td>3.9</td>\n",
       "      <td>12.4</td>\n",
       "      <td>53</td>\n",
       "      <td>2.2</td>\n",
       "      <td>0.0</td>\n",
       "      <td>6.38</td>\n",
       "    </tr>\n",
       "    <tr>\n",
       "      <th>9</th>\n",
       "      <td>7</td>\n",
       "      <td>4</td>\n",
       "      <td>feb</td>\n",
       "      <td>sun</td>\n",
       "      <td>83.9</td>\n",
       "      <td>8.7</td>\n",
       "      <td>32.1</td>\n",
       "      <td>2.1</td>\n",
       "      <td>8.8</td>\n",
       "      <td>68</td>\n",
       "      <td>2.2</td>\n",
       "      <td>0.0</td>\n",
       "      <td>13.05</td>\n",
       "    </tr>\n",
       "  </tbody>\n",
       "</table>\n",
       "</div>"
      ],
      "text/plain": [
       "   X  Y month  day  FFMC   DMC     DC  ISI  temp   RH  wind  rain   area\n",
       "0  2  4   jan  sat  82.1   3.7    9.3  2.9   5.3   78   3.1   0.0   0.00\n",
       "1  4  5   jan  sun  18.7   1.1  171.4  0.0   5.2  100   0.9   0.0   0.00\n",
       "2  2  2   feb  mon  84.0   9.3   34.0  2.1  13.9   40   5.4   0.0   0.00\n",
       "3  2  2   feb  fri  86.6  13.2   43.0  5.3  12.3   51   0.9   0.0   0.00\n",
       "4  9  9   feb  thu  84.2   6.8   26.6  7.7   6.7   79   3.1   0.0   0.00\n",
       "5  9  9   feb  fri  86.6  13.2   43.0  5.3  15.7   43   3.1   0.0   0.00\n",
       "6  3  4   feb  sat  83.9   8.0   30.2  2.6  12.7   48   1.8   0.0   0.00\n",
       "7  4  6   feb  sat  68.2  21.5   87.2  0.8  15.4   40   2.7   0.0   0.00\n",
       "8  5  4   feb  sun  86.8  15.6   48.3  3.9  12.4   53   2.2   0.0   6.38\n",
       "9  7  4   feb  sun  83.9   8.7   32.1  2.1   8.8   68   2.2   0.0  13.05"
      ]
     },
     "execution_count": 3,
     "metadata": {},
     "output_type": "execute_result"
    }
   ],
   "source": [
    "df.head(10)"
   ]
  },
  {
   "cell_type": "code",
   "execution_count": 4,
   "metadata": {},
   "outputs": [
    {
     "data": {
      "text/plain": [
       "(517, 13)"
      ]
     },
     "execution_count": 4,
     "metadata": {},
     "output_type": "execute_result"
    }
   ],
   "source": [
    "df.shape"
   ]
  },
  {
   "cell_type": "code",
   "execution_count": 5,
   "metadata": {},
   "outputs": [
    {
     "data": {
      "text/plain": [
       "0.0    509\n",
       "0.2      2\n",
       "0.8      2\n",
       "1.0      1\n",
       "6.4      1\n",
       "0.4      1\n",
       "1.4      1\n",
       "Name: rain, dtype: int64"
      ]
     },
     "execution_count": 5,
     "metadata": {},
     "output_type": "execute_result"
    }
   ],
   "source": [
    "df['rain'].value_counts()"
   ]
  },
  {
   "cell_type": "code",
   "execution_count": 6,
   "metadata": {},
   "outputs": [],
   "source": [
    "#df = df.drop('rain',axis=1)"
   ]
  },
  {
   "cell_type": "code",
   "execution_count": 7,
   "metadata": {},
   "outputs": [],
   "source": [
    "df.month = pd.to_datetime(df.month+df.day,format='%b%a')\n",
    "from time import strftime\n",
    "df.month = df.month.apply(lambda x:x.strftime('%m'))"
   ]
  },
  {
   "cell_type": "code",
   "execution_count": 8,
   "metadata": {},
   "outputs": [],
   "source": [
    "df = df[df.area<200]"
   ]
  },
  {
   "cell_type": "code",
   "execution_count": 9,
   "metadata": {},
   "outputs": [
    {
     "data": {
      "text/html": [
       "<div>\n",
       "<style scoped>\n",
       "    .dataframe tbody tr th:only-of-type {\n",
       "        vertical-align: middle;\n",
       "    }\n",
       "\n",
       "    .dataframe tbody tr th {\n",
       "        vertical-align: top;\n",
       "    }\n",
       "\n",
       "    .dataframe thead th {\n",
       "        text-align: right;\n",
       "    }\n",
       "</style>\n",
       "<table border=\"1\" class=\"dataframe\">\n",
       "  <thead>\n",
       "    <tr style=\"text-align: right;\">\n",
       "      <th></th>\n",
       "      <th>X</th>\n",
       "      <th>Y</th>\n",
       "      <th>month</th>\n",
       "      <th>day</th>\n",
       "      <th>FFMC</th>\n",
       "      <th>DMC</th>\n",
       "      <th>DC</th>\n",
       "      <th>ISI</th>\n",
       "      <th>temp</th>\n",
       "      <th>RH</th>\n",
       "      <th>wind</th>\n",
       "      <th>rain</th>\n",
       "      <th>area</th>\n",
       "    </tr>\n",
       "  </thead>\n",
       "  <tbody>\n",
       "    <tr>\n",
       "      <th>0</th>\n",
       "      <td>2</td>\n",
       "      <td>4</td>\n",
       "      <td>01</td>\n",
       "      <td>sat</td>\n",
       "      <td>82.1</td>\n",
       "      <td>3.7</td>\n",
       "      <td>9.3</td>\n",
       "      <td>2.9</td>\n",
       "      <td>5.3</td>\n",
       "      <td>78</td>\n",
       "      <td>3.1</td>\n",
       "      <td>0.0</td>\n",
       "      <td>0.0</td>\n",
       "    </tr>\n",
       "    <tr>\n",
       "      <th>1</th>\n",
       "      <td>4</td>\n",
       "      <td>5</td>\n",
       "      <td>01</td>\n",
       "      <td>sun</td>\n",
       "      <td>18.7</td>\n",
       "      <td>1.1</td>\n",
       "      <td>171.4</td>\n",
       "      <td>0.0</td>\n",
       "      <td>5.2</td>\n",
       "      <td>100</td>\n",
       "      <td>0.9</td>\n",
       "      <td>0.0</td>\n",
       "      <td>0.0</td>\n",
       "    </tr>\n",
       "    <tr>\n",
       "      <th>2</th>\n",
       "      <td>2</td>\n",
       "      <td>2</td>\n",
       "      <td>02</td>\n",
       "      <td>mon</td>\n",
       "      <td>84.0</td>\n",
       "      <td>9.3</td>\n",
       "      <td>34.0</td>\n",
       "      <td>2.1</td>\n",
       "      <td>13.9</td>\n",
       "      <td>40</td>\n",
       "      <td>5.4</td>\n",
       "      <td>0.0</td>\n",
       "      <td>0.0</td>\n",
       "    </tr>\n",
       "    <tr>\n",
       "      <th>3</th>\n",
       "      <td>2</td>\n",
       "      <td>2</td>\n",
       "      <td>02</td>\n",
       "      <td>fri</td>\n",
       "      <td>86.6</td>\n",
       "      <td>13.2</td>\n",
       "      <td>43.0</td>\n",
       "      <td>5.3</td>\n",
       "      <td>12.3</td>\n",
       "      <td>51</td>\n",
       "      <td>0.9</td>\n",
       "      <td>0.0</td>\n",
       "      <td>0.0</td>\n",
       "    </tr>\n",
       "    <tr>\n",
       "      <th>4</th>\n",
       "      <td>9</td>\n",
       "      <td>9</td>\n",
       "      <td>02</td>\n",
       "      <td>thu</td>\n",
       "      <td>84.2</td>\n",
       "      <td>6.8</td>\n",
       "      <td>26.6</td>\n",
       "      <td>7.7</td>\n",
       "      <td>6.7</td>\n",
       "      <td>79</td>\n",
       "      <td>3.1</td>\n",
       "      <td>0.0</td>\n",
       "      <td>0.0</td>\n",
       "    </tr>\n",
       "  </tbody>\n",
       "</table>\n",
       "</div>"
      ],
      "text/plain": [
       "   X  Y month  day  FFMC   DMC     DC  ISI  temp   RH  wind  rain  area\n",
       "0  2  4    01  sat  82.1   3.7    9.3  2.9   5.3   78   3.1   0.0   0.0\n",
       "1  4  5    01  sun  18.7   1.1  171.4  0.0   5.2  100   0.9   0.0   0.0\n",
       "2  2  2    02  mon  84.0   9.3   34.0  2.1  13.9   40   5.4   0.0   0.0\n",
       "3  2  2    02  fri  86.6  13.2   43.0  5.3  12.3   51   0.9   0.0   0.0\n",
       "4  9  9    02  thu  84.2   6.8   26.6  7.7   6.7   79   3.1   0.0   0.0"
      ]
     },
     "execution_count": 9,
     "metadata": {},
     "output_type": "execute_result"
    }
   ],
   "source": [
    "df.head()"
   ]
  },
  {
   "cell_type": "code",
   "execution_count": 10,
   "metadata": {},
   "outputs": [
    {
     "name": "stderr",
     "output_type": "stream",
     "text": [
      "C:\\Users\\hp\\Anaconda3\\lib\\site-packages\\matplotlib\\cbook\\__init__.py:1402: FutureWarning: Support for multi-dimensional indexing (e.g. `obj[:, None]`) is deprecated and will be removed in a future version.  Convert to a numpy array before indexing instead.\n",
      "  x[:, None]\n",
      "C:\\Users\\hp\\Anaconda3\\lib\\site-packages\\matplotlib\\axes\\_base.py:276: FutureWarning: Support for multi-dimensional indexing (e.g. `obj[:, None]`) is deprecated and will be removed in a future version.  Convert to a numpy array before indexing instead.\n",
      "  x = x[:, np.newaxis]\n",
      "C:\\Users\\hp\\Anaconda3\\lib\\site-packages\\matplotlib\\axes\\_base.py:278: FutureWarning: Support for multi-dimensional indexing (e.g. `obj[:, None]`) is deprecated and will be removed in a future version.  Convert to a numpy array before indexing instead.\n",
      "  y = y[:, np.newaxis]\n"
     ]
    },
    {
     "data": {
      "text/plain": [
       "Text(0, 0.5, 'Burned Area')"
      ]
     },
     "execution_count": 10,
     "metadata": {},
     "output_type": "execute_result"
    },
    {
     "data": {
      "image/png": "[encoded data removed]",
      "text/plain": [
       "<Figure size 1080x360 with 1 Axes>"
      ]
     },
     "metadata": {
      "needs_background": "light"
     },
     "output_type": "display_data"
    }
   ],
   "source": [
    "fig = plt.figure(figsize = (15,5))\n",
    "#Burned Area Vs Month \n",
    "plt.subplot2grid((2,3),(0,0),colspan=2,rowspan=2)\n",
    "plt.plot(df.month,df.area,'o')\n",
    "plt.title(\"Distribution of Burned Area according to Months\")\n",
    "plt.xlabel(\"Month\")\n",
    "plt.ylabel(\"Burned Area\")"
   ]
  },
  {
   "cell_type": "code",
   "execution_count": 11,
   "metadata": {},
   "outputs": [
    {
     "data": {
      "text/plain": [
       "Text(0, 0.5, 'Day')"
      ]
     },
     "execution_count": 11,
     "metadata": {},
     "output_type": "execute_result"
    },
    {
     "data": {
      "image/png": "[encoded data removed]",
      "text/plain": [
       "<Figure size 432x288 with 1 Axes>"
      ]
     },
     "metadata": {
      "needs_background": "light"
     },
     "output_type": "display_data"
    }
   ],
   "source": [
    "#Day vs Burned Area\n",
    "df.day[df.area>0].value_counts().plot(kind='barh')\n",
    "plt.title(\"Distribution of Burned Area according to days\")\n",
    "plt.xlabel(\"Area\")\n",
    "plt.ylabel(\"Day\")"
   ]
  },
  {
   "cell_type": "code",
   "execution_count": 12,
   "metadata": {},
   "outputs": [
    {
     "name": "stderr",
     "output_type": "stream",
     "text": [
      "C:\\Users\\hp\\Anaconda3\\lib\\site-packages\\matplotlib\\cbook\\__init__.py:1402: FutureWarning: Support for multi-dimensional indexing (e.g. `obj[:, None]`) is deprecated and will be removed in a future version.  Convert to a numpy array before indexing instead.\n",
      "  x[:, None]\n",
      "C:\\Users\\hp\\Anaconda3\\lib\\site-packages\\matplotlib\\axes\\_base.py:276: FutureWarning: Support for multi-dimensional indexing (e.g. `obj[:, None]`) is deprecated and will be removed in a future version.  Convert to a numpy array before indexing instead.\n",
      "  x = x[:, np.newaxis]\n",
      "C:\\Users\\hp\\Anaconda3\\lib\\site-packages\\matplotlib\\axes\\_base.py:278: FutureWarning: Support for multi-dimensional indexing (e.g. `obj[:, None]`) is deprecated and will be removed in a future version.  Convert to a numpy array before indexing instead.\n",
      "  y = y[:, np.newaxis]\n"
     ]
    },
    {
     "data": {
      "text/plain": [
       "Text(0, 0.5, 'Y (normailized Location)')"
      ]
     },
     "execution_count": 12,
     "metadata": {},
     "output_type": "execute_result"
    },
    {
     "data": {
      "image/png": "[encoded data removed]",
      "text/plain": [
       "<Figure size 1008x360 with 2 Axes>"
      ]
     },
     "metadata": {
      "needs_background": "light"
     },
     "output_type": "display_data"
    }
   ],
   "source": [
    "#Subplots based on Locations \n",
    "fig = plt.figure(figsize = (14,5))\n",
    "plt.subplot2grid((1,2),(0,0))\n",
    "plt.plot(df.X,df.Y,'o')\n",
    "plt.title(\"Location of all fires\")\n",
    "plt.xlabel('X (normailized Location)')\n",
    "plt.ylabel('Y (normailized Location)')\n",
    "plt.subplot2grid((1,2),(0,1))\n",
    "plt.plot(df.X[df.area>0],df.Y[df.area>0],'o')\n",
    "plt.title(\"Locaton of fires whose intensity>0\")\n",
    "plt.xlabel('X (normailized Location)')\n",
    "plt.ylabel('Y (normailized Location)')"
   ]
  },
  {
   "cell_type": "code",
   "execution_count": 13,
   "metadata": {},
   "outputs": [
    {
     "data": {
      "text/plain": [
       "Text(0.5, 0, 'ISI')"
      ]
     },
     "execution_count": 13,
     "metadata": {},
     "output_type": "execute_result"
    },
    {
     "data": {
      "image/png": "[encoded data removed]",
      "text/plain": [
       "<Figure size 1008x720 with 4 Axes>"
      ]
     },
     "metadata": {
      "needs_background": "light"
     },
     "output_type": "display_data"
    }
   ],
   "source": [
    "#SUBPLOT 1 For Distribution \n",
    "fig = plt.figure(figsize = (14,10))\n",
    "plt.subplot2grid((2,2),(0,0))\n",
    "plt.plot(df.FFMC[df.area>0],df.area[df.area>0],'^')\n",
    "plt.title(\"Distribution of FMC with Area Burned>0\")\n",
    "plt.ylabel(\"Area\")\n",
    "plt.xlabel(\"FMC\")\n",
    "\n",
    "plt.subplot2grid((2,2),(0,1))\n",
    "plt.plot(df.DMC[df.area>0],df.area[df.area>0],'*')\n",
    "plt.title(\"Distribution of DMC with Area Burned>0\")\n",
    "plt.ylabel(\"Area\")\n",
    "plt.xlabel(\"DMC\")\n",
    "\n",
    "plt.subplot2grid((2,2),(1,0))\n",
    "plt.plot(df.DC[df.area>0],df.area[df.area>0],'.')\n",
    "plt.title(\"Distribution of DC with Area Burned>0\")\n",
    "plt.ylabel(\"Area\")\n",
    "plt.xlabel(\"DC\")\n",
    "\n",
    "plt.subplot2grid((2,2),(1,1))\n",
    "plt.plot(df.ISI[df.area>0],df.area[df.area>0],'>')\n",
    "plt.title(\"Distribution of ISI with Area Burned>0\")\n",
    "plt.ylabel(\"Area\")\n",
    "plt.xlabel(\"ISI\")"
   ]
  },
  {
   "cell_type": "code",
   "execution_count": 14,
   "metadata": {},
   "outputs": [
    {
     "data": {
      "text/plain": [
       "Text(0.5, 0, 'WIND SPEED')"
      ]
     },
     "execution_count": 14,
     "metadata": {},
     "output_type": "execute_result"
    },
    {
     "data": {
      "image/png": "[encoded data removed]",
      "text/plain": [
       "<Figure size 1008x720 with 3 Axes>"
      ]
     },
     "metadata": {
      "needs_background": "light"
     },
     "output_type": "display_data"
    }
   ],
   "source": [
    "#SUBPLOT2 OF Distribution\n",
    "fig = plt.figure(figsize = (14,10))\n",
    "plt.subplot2grid((2,2),(0,0))\n",
    "plt.plot(df.temp[df.area>0],df.area[df.area>0],'.')\n",
    "plt.title(\"Distribution of Temperature with Area Burned>0\")\n",
    "plt.ylabel(\"Area\")\n",
    "plt.xlabel(\"temp\")\n",
    "\n",
    "plt.subplot2grid((2,2),(0,1))\n",
    "plt.plot(df.RH[df.area>0],df.area[df.area>0],'.')\n",
    "plt.title(\"Distribution of Relative Humidity with Area Burned>0\")\n",
    "plt.ylabel(\"Area\")\n",
    "plt.xlabel(\"RH\")\n",
    "\n",
    "plt.subplot2grid((2,2),(1,0))\n",
    "plt.plot(df.wind[df.area>0],df.area[df.area>0],'.',color='red')\n",
    "plt.title(\"Distribution of WindSpeed with Area Burned>0\")\n",
    "plt.ylabel(\"Area\")\n",
    "plt.xlabel(\"WIND SPEED\")"
   ]
  },
  {
   "cell_type": "code",
   "execution_count": 15,
   "metadata": {},
   "outputs": [],
   "source": [
    "df = df.drop('day',axis=1)\n",
    "df = df.drop('month',axis=1)"
   ]
  },
  {
   "cell_type": "code",
   "execution_count": 16,
   "metadata": {},
   "outputs": [],
   "source": [
    "df = df[df.area>0]"
   ]
  },
  {
   "cell_type": "code",
   "execution_count": 17,
   "metadata": {},
   "outputs": [
    {
     "data": {
      "text/plain": [
       "(265, 11)"
      ]
     },
     "execution_count": 17,
     "metadata": {},
     "output_type": "execute_result"
    }
   ],
   "source": [
    "df.shape"
   ]
  },
  {
   "cell_type": "code",
   "execution_count": 18,
   "metadata": {},
   "outputs": [],
   "source": [
    "arr = np.array(df,dtype='float64')\n",
    "X = arr[:,1:10]\n",
    "Y = arr[:,10:11]\n",
    "x_train, x_test, y_train, y_test = train_test_split(X, Y, test_size=0.25, random_state=1)"
   ]
  },
  {
   "cell_type": "code",
   "execution_count": 19,
   "metadata": {},
   "outputs": [],
   "source": [
    "from sklearn.tree import DecisionTreeRegressor\n",
    "from sklearn.ensemble import AdaBoostRegressor"
   ]
  },
  {
   "cell_type": "code",
   "execution_count": 20,
   "metadata": {},
   "outputs": [],
   "source": [
    "regr_1 = DecisionTreeRegressor()\n",
    "regr_2 = AdaBoostRegressor(DecisionTreeRegressor(), n_estimators=100)\n",
    "regr_3 = RandomForestRegressor( n_estimators=100)\n",
    "regr_4 = AdaBoostRegressor(RandomForestRegressor( n_estimators=100))"
   ]
  },
  {
   "cell_type": "code",
   "execution_count": 21,
   "metadata": {},
   "outputs": [
    {
     "name": "stderr",
     "output_type": "stream",
     "text": [
      "C:\\Users\\hp\\Anaconda3\\lib\\site-packages\\sklearn\\utils\\validation.py:985: DataConversionWarning: A column-vector y was passed when a 1d array was expected. Please change the shape of y to (n_samples, ), for example using ravel().\n",
      "  y = column_or_1d(y, warn=True)\n",
      "C:\\Users\\hp\\Anaconda3\\lib\\site-packages\\ipykernel_launcher.py:3: DataConversionWarning: A column-vector y was passed when a 1d array was expected. Please change the shape of y to (n_samples,), for example using ravel().\n",
      "  This is separate from the ipykernel package so we can avoid doing imports until\n",
      "C:\\Users\\hp\\Anaconda3\\lib\\site-packages\\sklearn\\utils\\validation.py:985: DataConversionWarning: A column-vector y was passed when a 1d array was expected. Please change the shape of y to (n_samples, ), for example using ravel().\n",
      "  y = column_or_1d(y, warn=True)\n"
     ]
    }
   ],
   "source": [
    "regr_1.fit(x_train, y_train)\n",
    "regr_2.fit(x_train, y_train)\n",
    "regr_3.fit(x_train, y_train)\n",
    "regr_4.fit(x_train, y_train)\n",
    "# Predict\n",
    "ypred_1 = regr_1.predict(x_test)\n",
    "ypred_2 = regr_2.predict(x_test)\n",
    "ypred_3 = regr_3.predict(x_test)\n",
    "ypred_4 = regr_4.predict(x_test)"
   ]
  },
  {
   "cell_type": "code",
   "execution_count": 22,
   "metadata": {},
   "outputs": [],
   "source": [
    "from sklearn.metrics import explained_variance_score"
   ]
  },
  {
   "cell_type": "code",
   "execution_count": 23,
   "metadata": {},
   "outputs": [],
   "source": [
    "from sklearn.metrics import r2_score"
   ]
  },
  {
   "cell_type": "code",
   "execution_count": 24,
   "metadata": {},
   "outputs": [
    {
     "name": "stdout",
     "output_type": "stream",
     "text": [
      "-0.6376863822578172\n",
      "-2.495206055507594\n",
      "-2.6811759162873323\n",
      "-4.1534642813111615\n"
     ]
    }
   ],
   "source": [
    "print(explained_variance_score(ypred_1,y_test))\n",
    "print(explained_variance_score(ypred_2,y_test))\n",
    "print(explained_variance_score(ypred_3,y_test))\n",
    "print(explained_variance_score(ypred_4,y_test))"
   ]
  },
  {
   "cell_type": "code",
   "execution_count": 25,
   "metadata": {},
   "outputs": [
    {
     "name": "stdout",
     "output_type": "stream",
     "text": [
      "-0.6489941576192924\n",
      "-2.538093931120882\n",
      "-2.6934955730215338\n",
      "-4.273115909435867\n"
     ]
    }
   ],
   "source": [
    "print(r2_score(ypred_1,y_test))\n",
    "print(r2_score(ypred_2,y_test))\n",
    "print(r2_score(ypred_3,y_test))\n",
    "print(r2_score(ypred_4,y_test))"
   ]
  }
 ],
 "metadata": {
  "kernelspec": {
   "display_name": "Python 3",
   "language": "python",
   "name": "python3"
  },
  "language_info": {
   "codemirror_mode": {
    "name": "ipython",
    "version": 3
   },
   "file_extension": ".py",
   "mimetype": "text/x-python",
   "name": "python",
   "nbconvert_exporter": "python",
   "pygments_lexer": "ipython3",
   "version": "3.7.3"
  }
 },
 "nbformat": 4,
 "nbformat_minor": 2
}
